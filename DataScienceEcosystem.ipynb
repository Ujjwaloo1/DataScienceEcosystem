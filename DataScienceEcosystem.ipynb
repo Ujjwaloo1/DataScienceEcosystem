{
 "cells": [
  {
   "cell_type": "markdown",
   "id": "875eb7bd-9215-409b-8727-41cccfd57b7a",
   "metadata": {},
   "source": [
    "# Data Science Tools and Ecosystem"
   ]
  },
  {
   "cell_type": "markdown",
   "id": "e2a2ceb5-0cbf-4e4d-9ed6-a1e1b3011486",
   "metadata": {},
   "source": [
    "## In this notebook, Data Science Tools and Ecosystem are summarized."
   ]
  },
  {
   "cell_type": "markdown",
   "id": "56abc1ba-0a3b-450e-9397-c62b10c31ab2",
   "metadata": {},
   "source": [
    "**Objective:**\n",
    "* List popular languages for Data Science\n",
    "* List popular libraries for Data Science\n",
    "* List popular tools for Data Science\n",
    "* examples of evaluating arithmetic expressions in Python"
   ]
  },
  {
   "cell_type": "markdown",
   "id": "5e5704d3-114c-4ede-b774-9f890211830e",
   "metadata": {},
   "source": [
    "## Some of the popular languages that Data Scientists use are:\n",
    "1. Python\n",
    "2. SQL\n",
    "3. R\n",
    "4. Julia\n",
    "5. JavaScript\n",
    "6. Java\n",
    "7. Scala"
   ]
  },
  {
   "cell_type": "markdown",
   "id": "715b9eb3-c316-4dc7-986b-9288804e3f37",
   "metadata": {},
   "source": [
    "## Some of the commonly used libraries used by Data Scientists include:\n",
    "1. TensorFlow\n",
    "2. NumPy\n",
    "3. SciPy\n",
    "4. Pandas\n",
    "5. Matplotlib"
   ]
  },
  {
   "cell_type": "markdown",
   "id": "2a566831-19c8-48b3-9ffb-5718122c4f29",
   "metadata": {},
   "source": [
    "##\n",
    "| Data Science Tools |\n",
    "|--------------------|\n",
    "|       MySQL        |\n",
    "|      CouchDB       |\n",
    "|      mongoDB       |"
   ]
  },
  {
   "cell_type": "markdown",
   "id": "738839b3-a08f-4a4a-9035-27ad3fb3beaa",
   "metadata": {},
   "source": [
    "## Below are a few examples of evaluating arithmetic expressions in Python"
   ]
  },
  {
   "cell_type": "code",
   "execution_count": 3,
   "id": "e669ac29-11f6-417b-9ab8-775bbae1aa49",
   "metadata": {},
   "outputs": [
    {
     "data": {
      "text/plain": [
       "17"
      ]
     },
     "execution_count": 3,
     "metadata": {},
     "output_type": "execute_result"
    }
   ],
   "source": [
    "#This a simple arithmetic expression to mutiply then add integers\n",
    "(3*4)+5"
   ]
  },
  {
   "cell_type": "code",
   "execution_count": 4,
   "id": "938ce13f-4260-4afd-a81f-6ad9e535cd02",
   "metadata": {},
   "outputs": [
    {
     "data": {
      "text/plain": [
       "3.3333333333333335"
      ]
     },
     "execution_count": 4,
     "metadata": {},
     "output_type": "execute_result"
    }
   ],
   "source": [
    "#This will convert 200 minutes to hours by diving by 60\n",
    "200/60"
   ]
  },
  {
   "cell_type": "markdown",
   "id": "e3c8f822-7bfe-4de5-80c5-dba831ffb415",
   "metadata": {},
   "source": [
    "## Ujjwal Tyagi\n",
    "Author"
   ]
  },
  {
   "cell_type": "code",
   "execution_count": null,
   "id": "6f3e2a49-b6a4-4de9-ae24-15ad8d2b32a8",
   "metadata": {},
   "outputs": [],
   "source": []
  }
 ],
 "metadata": {
  "kernelspec": {
   "display_name": "Python 3 (ipykernel)",
   "language": "python",
   "name": "python3"
  },
  "language_info": {
   "codemirror_mode": {
    "name": "ipython",
    "version": 3
   },
   "file_extension": ".py",
   "mimetype": "text/x-python",
   "name": "python",
   "nbconvert_exporter": "python",
   "pygments_lexer": "ipython3",
   "version": "3.11.5"
  }
 },
 "nbformat": 4,
 "nbformat_minor": 5
}
